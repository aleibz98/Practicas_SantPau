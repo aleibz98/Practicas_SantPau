{
 "cells": [
  {
   "cell_type": "code",
   "execution_count": 1,
   "source": [
    "import os\n",
    "import pandas as pd\n",
    "import numpy\n",
    "import csv\n",
    "import matplotlib.pyplot as plt"
   ],
   "outputs": [],
   "metadata": {}
  },
  {
   "cell_type": "code",
   "execution_count": 26,
   "source": [
    "# We will be importing the csv and generating a proper dataset.\n",
    "df = pd.read_csv(\"image_similarity_dataset.csv\")\n",
    "col_names = df.columns\n",
    "\n",
    "# Iterate through the rows of the dataset\n",
    "new_cols = [\"Subject\", \"method\", \"init\", \"dofs\", \n",
    "                                                'ANTsNeighborhoodCorrelation', \n",
    "                                                'Correlation', \n",
    "                                                'MeanSquares',\n",
    "                                                'MattesMutualInformation', \n",
    "                                                'Demons',\n",
    "                                                'JointHistogramMutualInformation']\n",
    "\n",
    "new_cols2 = [\"Subject\", \"method\", \"init\", \"dofs\"]\n",
    "new_df = pd.DataFrame()\n",
    "new_df = pd.DataFrame(columns=new_cols)\n",
    "new_df.set_index(['Subject', 'method', 'init', 'dofs'], inplace=True)\n",
    "\n",
    "new_df_dict = dict()\n",
    "for index, row in df.iterrows():  \n",
    "    for elem,name in zip(row,col_names):\n",
    "        name = name.split(\"_\")\n",
    "        if name[0] == \"Subject\":\n",
    "            subject = elem\n",
    "            continue\n",
    "\n",
    "        elif name[0] == \"mri-coreg\":\n",
    "            name = [name[0],'NA',name[1],name[2]]\n",
    "\n",
    "        new_val = {name[3]: elem}\n",
    "        \n",
    "        key = subject + '_' + '_'.join(name[0:-1])\n",
    "        if not key in new_df_dict.keys():\n",
    "            new_df_dict[key] = new_val\n",
    "        else:\n",
    "            new_df_dict[key].update(new_val)\n",
    "        \n",
    "\n",
    "for key in new_df_dict:\n",
    "    row = dict()\n",
    "    for colname, name in zip(new_cols2, key.split('_')):\n",
    "        row[colname] = name\n",
    "    for metric in new_df_dict[key]:\n",
    "        row.update(new_df_dict[key])\n",
    "\n",
    "    #entry = pd.DataFrame.from_dict(row, index = ['Subject', 'method', 'init', 'dofs'])\n",
    "    #entry.set_index(['Subject', 'method', 'init', 'dofs'], inplace=True)\n",
    "    #new_df = new_df.append(entry)        \n",
    "\n",
    "    entry = pd.DataFrame([row])\n",
    "    new_df = new_df.append(entry)\n",
    "\n",
    "new_df.reset_index()\n",
    "new_df.to_csv(\"image_similarity_dataset_new.csv\",index=False)"
   ],
   "outputs": [],
   "metadata": {}
  },
  {
   "cell_type": "code",
   "execution_count": 36,
   "source": [
    "new_df.set_index(['Subject', 'method', 'init', 'dofs'], inplace=True)"
   ],
   "outputs": [],
   "metadata": {}
  },
  {
   "cell_type": "code",
   "execution_count": 14,
   "source": [
    "# Group new_df by Subject, method, init, dofs\n",
    "df_grouped = new_df.groupby([\"Subject\",\"method\",\"init\",\"dofs\"], as_index=False)\n",
    "df_test = df_grouped.first()\n"
   ],
   "outputs": [],
   "metadata": {}
  },
  {
   "cell_type": "code",
   "execution_count": 17,
   "source": [
    "unique_metrics = df_test[\"metric\"].unique()\n",
    "unique_metrics"
   ],
   "outputs": [
    {
     "output_type": "execute_result",
     "data": {
      "text/plain": [
       "array(['ANTsNeighborhoodCorrelation', 'Correlation', 'MeanSquares',\n",
       "       'MattesMutualInformation', 'Demons',\n",
       "       'JointHistogramMutualInformation'], dtype=object)"
      ]
     },
     "metadata": {},
     "execution_count": 17
    }
   ],
   "metadata": {}
  }
 ],
 "metadata": {
  "orig_nbformat": 4,
  "language_info": {
   "name": "python",
   "version": "3.9.7",
   "mimetype": "text/x-python",
   "codemirror_mode": {
    "name": "ipython",
    "version": 3
   },
   "pygments_lexer": "ipython3",
   "nbconvert_exporter": "python",
   "file_extension": ".py"
  },
  "kernelspec": {
   "name": "python3",
   "display_name": "Python 3.9.7 64-bit"
  },
  "interpreter": {
   "hash": "aee8b7b246df8f9039afb4144a1f6fd8d2ca17a180786b69acc140d282b71a49"
  }
 },
 "nbformat": 4,
 "nbformat_minor": 2
}