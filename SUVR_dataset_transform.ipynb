{
 "cells": [
  {
   "cell_type": "code",
   "execution_count": 1,
   "source": [
    "import os\n",
    "import pandas as pd\n",
    "import numpy\n",
    "import csv\n",
    "import matplotlib.pyplot as plt"
   ],
   "outputs": [],
   "metadata": {}
  },
  {
   "cell_type": "code",
   "execution_count": 3,
   "source": [
    "df = pd.read_csv(\"SUVR_dataset.csv\")\n",
    "col_names = df.columns\n",
    "\n",
    "new_cols = [\"Subject\", \"method\", \"init\", \"dofs\", \"SUVR_subj\", \"SUVR_std\"]\n",
    "new_df = pd.DataFrame(columns = new_cols)\n",
    "new_df.set_index(['Subject', 'method', 'init', 'dofs'], inplace=True)\n",
    "\n",
    "new_df_dict = dict()\n",
    "for index,row in df.iterrows():\n",
    "    for elem, name in zip(row,col_names):\n",
    "        name = name.split(\"_\")\n",
    "        if name[0] == \"Subject\":\n",
    "            subject = elem\n",
    "            continue\n",
    "\n",
    "        elif name[0] == \"mri-coreg\":\n",
    "            name = name.insert(1, \"mri-coreg\")\n",
    "\n",
    "        new_val = {name[-1]: elem}\n",
    "\n",
    "        key = subject + '_' + '_'.join(name[0:3])\n",
    "        if not key in new_df_dict.keys():\n",
    "            new_df_dict[key] = new_val\n",
    "        else:\n",
    "            new_df_dict[key].update(new_val)\n",
    "\n",
    "for key in new_df_dict:\n",
    "    row = dict()\n",
    "    for colname, name in zip(new_cols, key.split('_')):\n",
    "        row[colname] = name\n",
    "    for metric in new_df_dict[key]:\n",
    "        row.update(new_df_dict[key])\n",
    "\n",
    "    entry = pd.DataFrame([row])\n",
    "    new_df = new_df.append(entry)    \n",
    "\n",
    "new_df.reset_index()\n",
    "new_df.to_csv(\"SUVR_dataset_new.csv\",index=False)      "
   ],
   "outputs": [
    {
     "output_type": "error",
     "ename": "TypeError",
     "evalue": "'NoneType' object is not subscriptable",
     "traceback": [
      "\u001b[0;31m---------------------------------------------------------------------------\u001b[0m",
      "\u001b[0;31mTypeError\u001b[0m                                 Traceback (most recent call last)",
      "\u001b[0;32m/var/folders/kd/14tczzz11ks456mfpxr2258h0000gn/T/ipykernel_18468/2756009907.py\u001b[0m in \u001b[0;36m<module>\u001b[0;34m\u001b[0m\n\u001b[1;32m     17\u001b[0m             \u001b[0mname\u001b[0m \u001b[0;34m=\u001b[0m \u001b[0mname\u001b[0m\u001b[0;34m.\u001b[0m\u001b[0minsert\u001b[0m\u001b[0;34m(\u001b[0m\u001b[0;36m1\u001b[0m\u001b[0;34m,\u001b[0m \u001b[0;34m\"mri-coreg\"\u001b[0m\u001b[0;34m)\u001b[0m\u001b[0;34m\u001b[0m\u001b[0;34m\u001b[0m\u001b[0m\n\u001b[1;32m     18\u001b[0m \u001b[0;34m\u001b[0m\u001b[0m\n\u001b[0;32m---> 19\u001b[0;31m         \u001b[0mnew_val\u001b[0m \u001b[0;34m=\u001b[0m \u001b[0;34m{\u001b[0m\u001b[0mname\u001b[0m\u001b[0;34m[\u001b[0m\u001b[0;34m-\u001b[0m\u001b[0;36m1\u001b[0m\u001b[0;34m]\u001b[0m\u001b[0;34m:\u001b[0m \u001b[0melem\u001b[0m\u001b[0;34m}\u001b[0m\u001b[0;34m\u001b[0m\u001b[0;34m\u001b[0m\u001b[0m\n\u001b[0m\u001b[1;32m     20\u001b[0m \u001b[0;34m\u001b[0m\u001b[0m\n\u001b[1;32m     21\u001b[0m         \u001b[0mkey\u001b[0m \u001b[0;34m=\u001b[0m \u001b[0msubject\u001b[0m \u001b[0;34m+\u001b[0m \u001b[0;34m'_'\u001b[0m \u001b[0;34m+\u001b[0m \u001b[0;34m'_'\u001b[0m\u001b[0;34m.\u001b[0m\u001b[0mjoin\u001b[0m\u001b[0;34m(\u001b[0m\u001b[0mname\u001b[0m\u001b[0;34m[\u001b[0m\u001b[0;36m0\u001b[0m\u001b[0;34m:\u001b[0m\u001b[0;36m3\u001b[0m\u001b[0;34m]\u001b[0m\u001b[0;34m)\u001b[0m\u001b[0;34m\u001b[0m\u001b[0;34m\u001b[0m\u001b[0m\n",
      "\u001b[0;31mTypeError\u001b[0m: 'NoneType' object is not subscriptable"
     ]
    }
   ],
   "metadata": {}
  }
 ],
 "metadata": {
  "orig_nbformat": 4,
  "language_info": {
   "name": "python",
   "version": "3.9.7",
   "mimetype": "text/x-python",
   "codemirror_mode": {
    "name": "ipython",
    "version": 3
   },
   "pygments_lexer": "ipython3",
   "nbconvert_exporter": "python",
   "file_extension": ".py"
  },
  "kernelspec": {
   "name": "python3",
   "display_name": "Python 3.9.7 64-bit"
  },
  "interpreter": {
   "hash": "aee8b7b246df8f9039afb4144a1f6fd8d2ca17a180786b69acc140d282b71a49"
  }
 },
 "nbformat": 4,
 "nbformat_minor": 2
}