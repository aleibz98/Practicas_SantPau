{
 "cells": [
  {
   "cell_type": "markdown",
   "metadata": {},
   "source": [
    "# Notebook for my first mri_coreg execution\n",
    "\n",
    "Link to documentation + examples:\n",
    "https://nipype.readthedocs.io/en/latest/api/generated/nipype.interfaces.freesurfer.registration.html#mricoreg"
   ]
  },
  {
   "cell_type": "code",
   "execution_count": 1,
   "metadata": {},
   "outputs": [],
   "source": [
    "import os\n",
    "from nipype.interfaces.freesurfer import MRICoreg"
   ]
  },
  {
   "cell_type": "code",
   "execution_count": 19,
   "metadata": {},
   "outputs": [],
   "source": [
    "subject_dir = '/home/student/Practicas/Practicas_SantPau/primeras_pruebas_freesurfer/data/co-registre_PET-TAU/'\n",
    "subject_id = 'sub-003S6257'\n",
    "out_path = '/home/student/Practicas/Practicas_SantPau/primeras_pruebas_freesurfer/data/output_mri_coreg/'"
   ]
  },
  {
   "cell_type": "code",
   "execution_count": 25,
   "metadata": {},
   "outputs": [
    {
     "data": {
      "text/plain": [
       "'mri_coreg --lta /home/student/Practicas/Practicas_SantPau/primeras_pruebas_freesurfer/data/output_mri_coreg/sub-003S6257_ses-m00_AV1451_to_T1.lta --ref /home/student/Practicas/Practicas_SantPau/primeras_pruebas_freesurfer/data/co-registre_PET-TAU/sub-003S6257/sub-003S6257_ses-m00_T1.nii --mov /home/student/Practicas/Practicas_SantPau/primeras_pruebas_freesurfer/data/co-registre_PET-TAU/sub-003S6257/sub-003S6257_ses-m00_AV1451.nii --sd /usr/pubsw/packages/freesurfer/freesurfer-7.1/subjects'"
      ]
     },
     "execution_count": 25,
     "metadata": {},
     "output_type": "execute_result"
    }
   ],
   "source": [
    "# Preparing the arguments for the MRICoreg interface\n",
    "coreg = MRICoreg()\n",
    "coreg.inputs.source_file = os.path.join(subject_dir, subject_id ,subject_id + '_ses-m00_AV1451.nii')   # Fijamos la imagen que moveremos (PET-TAU)\n",
    "coreg.inputs.reference_file = os.path.join(subject_dir, subject_id ,subject_id + '_ses-m00_T1.nii')    # Fijamos la imagen de referencia (T1)\n",
    "coreg.inputs.out_lta_file = os.path.join(out_path ,subject_id + '_ses-m00_AV1451_to_T1.lta')           # Guardamos la matriz de transformacion\n",
    "print(coreg.cmdline)\n",
    "#coreg.run()\n",
    "\n",
    "# Podemos ver que en este prrint aparece también\n",
    "#       --sd /usr/pubsw/packages/freesurfer/freesurfer-7.1/subjects\n",
    "# que hace referencia al $SUBJECT_DIR. En nuestro caso particular y dados los parametros que pasamos,\n",
    "# A PRIORI no sería necesario, ya que indicamos todos los inputs así como los outputs con un path absoluto."
   ]
  },
  {
   "cell_type": "code",
   "execution_count": 26,
   "metadata": {},
   "outputs": [],
   "source": [
    "from nipype.interfaces.freesurfer import ApplyVolTransform"
   ]
  },
  {
   "cell_type": "code",
   "execution_count": 30,
   "metadata": {},
   "outputs": [
    {
     "name": "stdout",
     "output_type": "stream",
     "text": [
      "mri_vol2vol --lta /home/student/Practicas/Practicas_SantPau/primeras_pruebas_freesurfer/data/output_mri_coreg/sub-003S6257_ses-m00_AV1451_to_T1.lta --mov /home/student/Practicas/Practicas_SantPau/primeras_pruebas_freesurfer/data/co-registre_PET-TAU/sub-003S6257/sub-003S6257_ses-m00_AV1451.nii --targ /home/student/Practicas/Practicas_SantPau/primeras_pruebas_freesurfer/data/co-registre_PET-TAU/sub-003S6257/sub-003S6257_ses-m00_T1.nii --o /home/student/Practicas/Practicas_SantPau/primeras_pruebas_freesurfer/data/output_mri_coreg/sub-003S6257_ses-m00_AV1451_to_T1.nii\n"
     ]
    }
   ],
   "source": [
    "# Preparing the arguments for the ApplyVolTransform interface\n",
    "apply_transform = ApplyVolTransform()\n",
    "apply_transform.inputs.source_file = os.path.join(subject_dir, subject_id ,subject_id + '_ses-m00_AV1451.nii')   # Fijamos la imagen que moveremos (PET-TAU)\n",
    "apply_transform.inputs.lta_file = os.path.join(out_path ,subject_id + '_ses-m00_AV1451_to_T1.lta')               # Fijamos la matriz de transformacion\n",
    "apply_transform.inputs.target_file = os.path.join(subject_dir, subject_id, subject_id + '_ses-m00_T1.nii')       # Fijamos la imagen fija (T1)\n",
    "apply_transform.inputs.transformed_file = os.path.join(out_path ,subject_id + '_ses-m00_AV1451_to_T1.nii')       # Guardamos la imagen transformada\n",
    "print(apply_transform.cmdline)"
   ]
  }
 ],
 "metadata": {
  "interpreter": {
   "hash": "e78c7d0d89d7b75ef21c443dd197988fb009cd5428d8f9924b8ae0262285db2f"
  },
  "kernelspec": {
   "display_name": "Python 3.9.5 64-bit ('py39': conda)",
   "name": "python3"
  },
  "language_info": {
   "codemirror_mode": {
    "name": "ipython",
    "version": 3
   },
   "file_extension": ".py",
   "mimetype": "text/x-python",
   "name": "python",
   "nbconvert_exporter": "python",
   "pygments_lexer": "ipython3",
   "version": "3.9.5"
  },
  "orig_nbformat": 4
 },
 "nbformat": 4,
 "nbformat_minor": 2
}
