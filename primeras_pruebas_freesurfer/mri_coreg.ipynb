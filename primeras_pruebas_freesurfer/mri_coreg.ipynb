{
 "cells": [
  {
   "cell_type": "markdown",
   "metadata": {},
   "source": [
    "# Notebook for my first mri_coreg execution\n",
    "\n",
    "Link to documentation + examples:\n",
    "https://nipype.readthedocs.io/en/latest/api/generated/nipype.interfaces.freesurfer.registration.html#mricoreg"
   ]
  },
  {
   "cell_type": "code",
   "execution_count": 1,
   "metadata": {},
   "outputs": [],
   "source": [
    "import os\n",
    "from nipype.interfaces.freesurfer import MRICoreg"
   ]
  },
  {
   "cell_type": "code",
   "execution_count": 2,
   "metadata": {},
   "outputs": [],
   "source": [
    "subject_dir = '/home/student/Practicas/Practicas_SantPau/primeras_pruebas_freesurfer/data/co-registre_PET-TAU/'\n",
    "subject_id = 'sub-003S6257'"
   ]
  },
  {
   "cell_type": "code",
   "execution_count": 3,
   "metadata": {},
   "outputs": [
    {
     "data": {
      "text/plain": [
       "'mri_coreg --lta sub-003S6257_ses-m00_AV1451_to_T1.lta --ref /home/student/Practicas/Practicas_SantPau/primeras_pruebas_freesurfer/data/co-registre_PET-TAU/sub-003S6257/sub-003S6257_ses-m00_T1.nii --mov /home/student/Practicas/Practicas_SantPau/primeras_pruebas_freesurfer/data/co-registre_PET-TAU/sub-003S6257/sub-003S6257_ses-m00_AV1451.nii --sd /usr/pubsw/packages/freesurfer/freesurfer-7.1/subjects'"
      ]
     },
     "execution_count": 3,
     "metadata": {},
     "output_type": "execute_result"
    }
   ],
   "source": [
    "# Preparing the arguments for the MRICoreg interface\n",
    "coreg = MRICoreg()\n",
    "coreg.inputs.source_file = os.path.join(subject_dir, subject_id ,subject_id + '_ses-m00_AV1451.nii')   # Fijamos la imagen que moveremos (PET-TAU)\n",
    "coreg.inputs.reference_file = os.path.join(subject_dir, subject_id ,subject_id + '_ses-m00_T1.nii')          # Fijamos la imagen de referencia (T1)\n",
    "coreg.inputs.out_lta_file = os.path.join('/home/student/Practicas/Practicas_SantPau/primeras_pruebas_freesurfer/data/output_mri_coreg/' ,subject_id + '_ses-m00_AV1451_to_T1.lta')  # Guardamos la matriz de transformacion\n",
    "coreg.cmdline"
   ]
  }
 ],
 "metadata": {
  "interpreter": {
   "hash": "e78c7d0d89d7b75ef21c443dd197988fb009cd5428d8f9924b8ae0262285db2f"
  },
  "kernelspec": {
   "display_name": "Python 3.9.5 64-bit ('py39': conda)",
   "name": "python3"
  },
  "language_info": {
   "codemirror_mode": {
    "name": "ipython",
    "version": 3
   },
   "file_extension": ".py",
   "mimetype": "text/x-python",
   "name": "python",
   "nbconvert_exporter": "python",
   "pygments_lexer": "ipython3",
   "version": "3.9.5"
  },
  "orig_nbformat": 4
 },
 "nbformat": 4,
 "nbformat_minor": 2
}
