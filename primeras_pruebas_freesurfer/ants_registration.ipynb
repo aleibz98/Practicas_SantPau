{
 "cells": [
  {
   "cell_type": "markdown",
   "metadata": {},
   "source": [
    "# Notebook for my first ANTs_registration executions\n",
    "\n",
    "Links to documentation and examples:\n",
    "https://antspy.readthedocs.io/en/latest/registration.html\n",
    "https://nipype.readthedocs.io/en/1.1.7/interfaces/generated/interfaces.ants/registration.html#registration"
   ]
  },
  {
   "cell_type": "code",
   "execution_count": null,
   "metadata": {},
   "outputs": [],
   "source": [
    "# Lo dejo pendiente ya que es muy parecido a las otras dos y aun no se que es cada cosa"
   ]
  }
 ],
 "metadata": {
  "interpreter": {
   "hash": "e78c7d0d89d7b75ef21c443dd197988fb009cd5428d8f9924b8ae0262285db2f"
  },
  "kernelspec": {
   "display_name": "Python 3.9.5 64-bit ('py39': conda)",
   "name": "python3"
  },
  "language_info": {
   "name": "python",
   "version": "3.9.5"
  },
  "orig_nbformat": 4
 },
 "nbformat": 4,
 "nbformat_minor": 2
}
