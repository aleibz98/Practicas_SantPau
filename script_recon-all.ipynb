{
 "cells": [
  {
   "cell_type": "markdown",
   "metadata": {},
   "source": [
    "# Notebook for running recon-all on a subject's T1 image"
   ]
  },
  {
   "cell_type": "code",
   "execution_count": 17,
   "metadata": {},
   "outputs": [],
   "source": [
    "import os\n",
    "import subprocess\n",
    "import asyncio\n",
    "from nipype.interfaces.freesurfer import ReconAll"
   ]
  },
  {
   "cell_type": "markdown",
   "metadata": {},
   "source": [
    "Link to documentation and examples:\n",
    "https://nipype.readthedocs.io/en/0.12.0/interfaces/generated/nipype.interfaces.freesurfer.preprocess.html#reconall"
   ]
  },
  {
   "cell_type": "code",
   "execution_count": 18,
   "metadata": {},
   "outputs": [],
   "source": [
    "# SETUP - CHANGE THESE VALUES\n",
    "\n",
    "# Make asyncronous calls to freesurfer (i.e. run them all at once)\n",
    "# Molaría que se pudiera elegir si ejecutar las llamadas en paralelo o no\n",
    "# También, que estas se ejecutaran con un paralelismo optimizado segun el número de cores de la cpu y esas cosas\n",
    "mode_async = True               # NOT IMPLEMENTED YET\n",
    "cpu_cores = os.cpu_count()\n",
    "\n",
    "# Run or just print the commands?\n",
    "run = False"
   ]
  },
  {
   "cell_type": "code",
   "execution_count": 19,
   "metadata": {},
   "outputs": [
    {
     "name": "stdout",
     "output_type": "stream",
     "text": [
      "['sub-027S6002', 'sub-003S6257']\n"
     ]
    }
   ],
   "source": [
    "subjects_dir = '/home/student/Practicas/Practicas_SantPau/primeras_pruebas_freesurfer/data/co-registre_PET-TAU'\n",
    "subjects = os.listdir(subjects_dir)\n",
    "print(subjects)"
   ]
  },
  {
   "cell_type": "code",
   "execution_count": 23,
   "metadata": {},
   "outputs": [],
   "source": [
    "def run_reconall(subject):\n",
    "    reconall = ReconAll()\n",
    "    reconall.inputs.subject_id = elem\n",
    "    reconall.inputs.subjects_dir = subjects_dir\n",
    "    reconall.inputs.T1_files = os.path.join(subjects_dir,elem, elem + '_ses-m00_T1.nii')\n",
    "    reconall.inputs.directive = 'all'\n",
    "    print(\"Preprocessing subjects \" + elem)\n",
    "    print(\"Equivalent shell execution command: \")\n",
    "    print(reconall.cmdline)\n",
    "    if run:\n",
    "        print(\"Running recon-all for subject \" + elem)\n",
    "        reconall.run()\n",
    "    print()"
   ]
  },
  {
   "cell_type": "code",
   "execution_count": 24,
   "metadata": {},
   "outputs": [
    {
     "name": "stdout",
     "output_type": "stream",
     "text": [
      "Preprocessing subjects sub-027S6002\n",
      "Equivalent shell execution command: \n",
      "recon-all -all -i /home/student/Practicas/Practicas_SantPau/primeras_pruebas_freesurfer/data/co-registre_PET-TAU/sub-027S6002/sub-027S6002_ses-m00_T1.nii -subjid sub-027S6002 -sd /home/student/Practicas/Practicas_SantPau/primeras_pruebas_freesurfer/data/co-registre_PET-TAU\n",
      "\n",
      "Preprocessing subjects sub-003S6257\n",
      "Equivalent shell execution command: \n",
      "recon-all -all -i /home/student/Practicas/Practicas_SantPau/primeras_pruebas_freesurfer/data/co-registre_PET-TAU/sub-003S6257/sub-003S6257_ses-m00_T1.nii -subjid sub-003S6257 -sd /home/student/Practicas/Practicas_SantPau/primeras_pruebas_freesurfer/data/co-registre_PET-TAU\n",
      "\n"
     ]
    }
   ],
   "source": [
    "for elem in subjects:\n",
    "    run_reconall(elem)"
   ]
  },
  {
   "cell_type": "code",
   "execution_count": null,
   "metadata": {},
   "outputs": [],
   "source": []
  }
 ],
 "metadata": {
  "interpreter": {
   "hash": "e78c7d0d89d7b75ef21c443dd197988fb009cd5428d8f9924b8ae0262285db2f"
  },
  "kernelspec": {
   "display_name": "Python 3.9.5 64-bit ('py39': conda)",
   "name": "python3"
  },
  "language_info": {
   "codemirror_mode": {
    "name": "ipython",
    "version": 3
   },
   "file_extension": ".py",
   "mimetype": "text/x-python",
   "name": "python",
   "nbconvert_exporter": "python",
   "pygments_lexer": "ipython3",
   "version": "3.9.5"
  },
  "orig_nbformat": 4
 },
 "nbformat": 4,
 "nbformat_minor": 2
}
