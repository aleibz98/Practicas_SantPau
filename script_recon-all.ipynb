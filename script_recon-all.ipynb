{
 "cells": [
  {
   "cell_type": "code",
   "execution_count": null,
   "metadata": {},
   "outputs": [],
   "source": [
    "import os\n",
    "import subprocess"
   ]
  },
  {
   "cell_type": "code",
   "execution_count": null,
   "metadata": {},
   "outputs": [],
   "source": [
    "# set environment variables\n",
    "os.environ['SUBJECTS_DIR'] = '/usr/pubsw/packages/freesurfer/freesurfer-7.1/subjects/'\n",
    "os.environ['FREESURFER_HOME'] = '/usr/pubsw/packages/freesurfer/freesurfer-7.1/'"
   ]
  },
  {
   "cell_type": "code",
   "execution_count": null,
   "metadata": {},
   "outputs": [],
   "source": [
    "# get all the subjects in the directory\n",
    "subjects = os.listdir(os.environ['SUBJECTS_DIR'])"
   ]
  },
  {
   "cell_type": "code",
   "execution_count": null,
   "metadata": {},
   "outputs": [],
   "source": [
    "#run recon-all on each subject\n",
    "for subject in subjects:\n",
    "    print(\"Running recon-all for subject: \" + subject)\n",
    "    subprocess.call(['recon-all', '-i', subject + '/' + subject + '.nii', '-subjid' , subject, '-all'])"
   ]
  }
 ],
 "metadata": {
  "language_info": {
   "name": "python"
  },
  "orig_nbformat": 4
 },
 "nbformat": 4,
 "nbformat_minor": 2
}
